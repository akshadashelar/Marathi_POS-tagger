{
 "cells": [
  {
   "cell_type": "markdown",
   "metadata": {},
   "source": [
    "# Problem Statement- Implement POS tagging for simple sentences written Hindi or any Indian Language"
   ]
  },
  {
   "cell_type": "markdown",
   "metadata": {},
   "source": [
    "Here I Used the news articles provided by the Marathi Corpus by the NLTK\n",
    "library.I trained a Unigram POS Tagger provided by the NLTK library to train on\n",
    "the Marathi corpus."
   ]
  },
  {
   "cell_type": "markdown",
   "metadata": {},
   "source": [
    "### Step 1: Necessary Dependancies"
   ]
  },
  {
   "cell_type": "code",
   "execution_count": 26,
   "metadata": {},
   "outputs": [
    {
     "name": "stderr",
     "output_type": "stream",
     "text": [
      "/home/dell/.local/lib/python3.6/site-packages/ipykernel_launcher.py:10: FutureWarning: Passing a negative integer is deprecated in version 1.0 and will not be supported in future version. Instead, use None to not limit the column width.\n",
      "  # Remove the CWD from sys.path while we load stuff.\n",
      "[nltk_data] Downloading package indian to /home/dell/nltk_data...\n",
      "[nltk_data]   Package indian is already up-to-date!\n"
     ]
    },
    {
     "data": {
      "text/plain": [
       "True"
      ]
     },
     "execution_count": 26,
     "metadata": {},
     "output_type": "execute_result"
    }
   ],
   "source": [
    "import nltk\n",
    "import pandas as pd\n",
    "\n",
    "from nltk import word_tokenize\n",
    "from nltk.tag import untag\n",
    "from nltk import UnigramTagger\n",
    "\n",
    "pd.set_option('display.max_columns', None)  \n",
    "pd.set_option('display.expand_frame_repr', False)\n",
    "pd.set_option('max_colwidth', -1)\n",
    "\n",
    "from nltk.corpus import indian\n",
    "nltk.download('indian')"
   ]
  },
  {
   "cell_type": "markdown",
   "metadata": {},
   "source": [
    "### Step 2: Load Data"
   ]
  },
  {
   "cell_type": "code",
   "execution_count": 27,
   "metadata": {},
   "outputs": [],
   "source": [
    "tagged_set = 'marathi.pos'\n",
    "articles = indian.sents(tagged_set)"
   ]
  },
  {
   "cell_type": "code",
   "execution_count": 28,
   "metadata": {},
   "outputs": [
    {
     "name": "stdout",
     "output_type": "stream",
     "text": [
      "''\n",
      "सनातनवाद्यांनी\n",
      "व\n",
      "प्रतिगाम्यांनी\n",
      "समाज\n",
      "रसातळाला\n",
      "नेला\n",
      "असताना\n",
      "या\n",
      "अंधारात\n",
      "बाळशास्त्री\n",
      "जांभेकर\n",
      "यांनी\n",
      "'दर्पण'च्या\n",
      "माध्यमातून\n",
      "पहिली\n",
      "ज्ञानज्योत\n",
      "तेववली\n",
      ",\n",
      "''\n",
      "असे\n",
      "प्रतिपादन\n",
      "नटसम्राट\n",
      "प्रभाकर\n",
      "पणशीकर\n",
      "यांनी\n",
      "केले\n",
      ".\n"
     ]
    }
   ],
   "source": [
    "count = 0\n",
    "for sentence in articles[0]:\n",
    "    print(sentence)     #View the dataset"
   ]
  },
  {
   "cell_type": "code",
   "execution_count": 29,
   "metadata": {},
   "outputs": [],
   "source": [
    "count=len(articles)  #Size of dataset"
   ]
  },
  {
   "cell_type": "markdown",
   "metadata": {},
   "source": [
    "\n",
    "\n",
    "We could therefore find POS tags for 1197 sentences.\n",
    "\n",
    "\n",
    "Lets view the first article...\n"
   ]
  },
  {
   "cell_type": "code",
   "execution_count": 30,
   "metadata": {},
   "outputs": [
    {
     "data": {
      "text/plain": [
       "\"'' सनातनवाद्यांनी व प्रतिगाम्यांनी समाज रसातळाला नेला असताना या अंधारात बाळशास्त्री जांभेकर यांनी 'दर्पण'च्या माध्यमातून पहिली ज्ञानज्योत तेववली , '' असे प्रतिपादन नटसम्राट प्रभाकर पणशीकर यांनी केले .\""
      ]
     },
     "execution_count": 30,
     "metadata": {},
     "output_type": "execute_result"
    }
   ],
   "source": [
    "sentence1 = \" \".join(articles[0])\n",
    "sentence1"
   ]
  },
  {
   "cell_type": "code",
   "execution_count": 31,
   "metadata": {},
   "outputs": [
    {
     "name": "stdout",
     "output_type": "stream",
     "text": [
      "1197\n"
     ]
    }
   ],
   "source": [
    "print(count)"
   ]
  },
  {
   "cell_type": "markdown",
   "metadata": {},
   "source": [
    "### Step 3: Split dataset into training and testing"
   ]
  },
  {
   "cell_type": "code",
   "execution_count": 32,
   "metadata": {},
   "outputs": [
    {
     "name": "stdout",
     "output_type": "stream",
     "text": [
      "1077 1078\n"
     ]
    }
   ],
   "source": [
    "train_perc = .9\n",
    "train_rows = int(train_perc*count)\n",
    "test_rows = train_rows + 1\n",
    "print(train_rows,test_rows)"
   ]
  },
  {
   "cell_type": "code",
   "execution_count": 33,
   "metadata": {},
   "outputs": [],
   "source": [
    "\n",
    "data = indian.tagged_sents(tagged_set)\n",
    "train_data = data[:train_rows] \n",
    "test_data = data[test_rows:]\n"
   ]
  },
  {
   "cell_type": "markdown",
   "metadata": {},
   "source": [
    "### Step 4: Training the model"
   ]
  },
  {
   "cell_type": "markdown",
   "metadata": {},
   "source": [
    "The Unigram tagger (n-gram, n = 1) is a simple statistical tagging algorithm. For each token, it assigns the tag that is most likely for that token. For example, it will\n",
    "assign the tag ‘adj’ to any occurrence of the word ‘frequent’, since ‘frequent’ is used as an adjective (e.g. a frequent word) more often than it is used as a verb (e.g. I\n",
    "frequent this cafe).\n"
   ]
  },
  {
   "cell_type": "markdown",
   "metadata": {},
   "source": [
    "#### Simple unigram model without backoff tagger"
   ]
  },
  {
   "cell_type": "code",
   "execution_count": 34,
   "metadata": {},
   "outputs": [
    {
     "data": {
      "text/plain": [
       "[('ज्या', 'PRP'),\n",
       " ('देशवासीयांकडे', None),\n",
       " ('केबल', 'NN'),\n",
       " ('नाही', 'VAUX'),\n",
       " (',', 'SYM'),\n",
       " ('त्यांना', 'PRP'),\n",
       " ('सात', 'QC'),\n",
       " ('मिनिटे', 'NN'),\n",
       " ('उशिरा', None),\n",
       " ('सामना', 'NN'),\n",
       " ('दाखवावा', None),\n",
       " ('लागत', 'VAUX'),\n",
       " ('असल्याने', 'VM'),\n",
       " ('निंबस', 'NNP'),\n",
       " ('अन्याय', 'NN'),\n",
       " ('करत', 'VM'),\n",
       " ('असल्याचे', 'VAUX'),\n",
       " ('मत', 'NN'),\n",
       " ('त्यांनी', 'PRP'),\n",
       " ('व्यक्त', 'JJ'),\n",
       " ('केले', 'VM'),\n",
       " ('होते', 'VAUX'),\n",
       " (';', 'SYM'),\n",
       " ('तसेच', 'CC'),\n",
       " ('त्याच', 'DEM'),\n",
       " ('वेळी', 'NN'),\n",
       " ('सरकारी', 'JJ'),\n",
       " ('पातळीवर', 'NN'),\n",
       " ('एक', 'QC'),\n",
       " ('विधेयक', 'NN'),\n",
       " ('मांडण्याचाही', None),\n",
       " ('विचार', 'NN'),\n",
       " ('बोलून', 'VM'),\n",
       " ('दाखविला', 'VAUX'),\n",
       " ('होता', 'VAUX'),\n",
       " ('.', 'SYM')]"
      ]
     },
     "execution_count": 34,
     "metadata": {},
     "output_type": "execute_result"
    }
   ],
   "source": [
    "# Train the unigram model\n",
    "unigram_tag = UnigramTagger(train_data)\n",
    "\n",
    "# Test it on a single sentence\n",
    "unigram_tag.tag(untag(test_data[0]))"
   ]
  },
  {
   "cell_type": "code",
   "execution_count": 35,
   "metadata": {},
   "outputs": [
    {
     "data": {
      "text/plain": [
       "0.5846774193548387"
      ]
     },
     "execution_count": 35,
     "metadata": {},
     "output_type": "execute_result"
    }
   ],
   "source": [
    "unigram_tag.evaluate(test_data)   # Evaluation of model"
   ]
  },
  {
   "cell_type": "markdown",
   "metadata": {},
   "source": [
    "#### Combining unigram tagger with backoff tagging"
   ]
  },
  {
   "cell_type": "markdown",
   "metadata": {},
   "source": [
    "Many words have been assigned a tag of 'None' because they were not among the most frequent words. It can pass the word on to the next backoff tagger. In these case, we assign 'Defualt Tag' of 'NN'. \n",
    "Here Default Tagger used backoff tagger."
   ]
  },
  {
   "cell_type": "code",
   "execution_count": 36,
   "metadata": {},
   "outputs": [
    {
     "data": {
      "text/plain": [
       "[('ज्या', 'PRP'),\n",
       " ('देशवासीयांकडे', 'NN'),\n",
       " ('केबल', 'NN'),\n",
       " ('नाही', 'VAUX'),\n",
       " (',', 'SYM'),\n",
       " ('त्यांना', 'PRP'),\n",
       " ('सात', 'QC'),\n",
       " ('मिनिटे', 'NN'),\n",
       " ('उशिरा', 'NN'),\n",
       " ('सामना', 'NN'),\n",
       " ('दाखवावा', 'NN'),\n",
       " ('लागत', 'VAUX'),\n",
       " ('असल्याने', 'VM'),\n",
       " ('निंबस', 'NNP'),\n",
       " ('अन्याय', 'NN'),\n",
       " ('करत', 'VM'),\n",
       " ('असल्याचे', 'VAUX'),\n",
       " ('मत', 'NN'),\n",
       " ('त्यांनी', 'PRP'),\n",
       " ('व्यक्त', 'JJ'),\n",
       " ('केले', 'VM'),\n",
       " ('होते', 'VAUX'),\n",
       " (';', 'SYM'),\n",
       " ('तसेच', 'CC'),\n",
       " ('त्याच', 'DEM'),\n",
       " ('वेळी', 'NN'),\n",
       " ('सरकारी', 'JJ'),\n",
       " ('पातळीवर', 'NN'),\n",
       " ('एक', 'QC'),\n",
       " ('विधेयक', 'NN'),\n",
       " ('मांडण्याचाही', 'NN'),\n",
       " ('विचार', 'NN'),\n",
       " ('बोलून', 'VM'),\n",
       " ('दाखविला', 'VAUX'),\n",
       " ('होता', 'VAUX'),\n",
       " ('.', 'SYM')]"
      ]
     },
     "execution_count": 36,
     "metadata": {},
     "output_type": "execute_result"
    }
   ],
   "source": [
    "\n",
    "# Train the unigram model\n",
    "unigram_tagger = UnigramTagger(train_data,backoff=nltk.DefaultTagger('NN'))\n",
    "\n",
    "# Test it on a single sentence\n",
    "unigram_tagger.tag(untag(test_data[0]))\n"
   ]
  },
  {
   "cell_type": "code",
   "execution_count": 37,
   "metadata": {},
   "outputs": [
    {
     "data": {
      "text/plain": [
       "0.7240783410138248"
      ]
     },
     "execution_count": 37,
     "metadata": {},
     "output_type": "execute_result"
    }
   ],
   "source": [
    "unigram_tagger.evaluate(test_data)  #Evaluation of new model"
   ]
  },
  {
   "cell_type": "markdown",
   "metadata": {},
   "source": [
    "Accuracy of model has been increased from 58% to 72%"
   ]
  },
  {
   "cell_type": "markdown",
   "metadata": {},
   "source": [
    "### Step 5: Formatting results into a table "
   ]
  },
  {
   "cell_type": "code",
   "execution_count": 38,
   "metadata": {},
   "outputs": [],
   "source": [
    "#Generalized function that would return the POS tags in a structured table format\n",
    "from collections import defaultdict\n",
    "\n",
    "def get_POS(article):\n",
    "\n",
    "    POS = {}\n",
    "\n",
    "    word_tags = unigram_tagger.tag(article)\n",
    "    for word, tag in word_tags:\n",
    "        if tag not in POS:\n",
    "            POS[tag] = [word]\n",
    "        else:\n",
    "            POS[tag].append(word)\n",
    "    \n",
    "    DF = {'Tags':[], 'Words':[], 'Count':[]}\n",
    "\n",
    "\n",
    "    for k in POS:\n",
    "        DF['Tags'].append(k)\n",
    "        DF['Words'].append(\" \".join(POS[k]))\n",
    "        DF['Count'].append(len(POS[k]))\n",
    "    \n",
    "    return pd.DataFrame(DF)"
   ]
  },
  {
   "cell_type": "markdown",
   "metadata": {},
   "source": [
    "\n",
    "\n",
    "Testing on External article\n"
   ]
  },
  {
   "cell_type": "code",
   "execution_count": 39,
   "metadata": {},
   "outputs": [],
   "source": [
    "list='डॉ. मानसी शिरीष कणेकर  या मराठी लेखिका, कवयित्री व गायिका होत्या. कणेकर संजीवनी मराठे यांची मुलगी होत. त्यांचे पती अनिल हवालदार आणि शिरीष कणेकर हे दोघेही लेखक होत. मानसी कणेकर यांचे इंग्रजी, मराठी, संस्कृत आणि उर्दू या भाषांवर प्रभुत्व होते. त्या गझल लिहीत आणि गातही. मानसी कणेकर यांनी २९व्या वर्षी अनुवादशास्त्रात पीएच.डी. मिळवली होती. लॉर्का या प्रसिद्ध स्पॅनिश नाटककाराची तीन नाटके त्यांनी मराठीत अनुवादित केली होती. त्यांनी ज्ञानेश्वरांच्या अभंगांचे आशयलेखन केले. सिम्बोलिझम या विषयाचा त्यांचा अभ्यास असून त्यांच्या पुस्तकांतून आध्यात्मिक चित्रकार शिवानंद यांची प्रतीकात्मक चित्रे असत.'"
   ]
  },
  {
   "cell_type": "code",
   "execution_count": 40,
   "metadata": {},
   "outputs": [
    {
     "data": {
      "text/html": [
       "<div>\n",
       "<style scoped>\n",
       "    .dataframe tbody tr th:only-of-type {\n",
       "        vertical-align: middle;\n",
       "    }\n",
       "\n",
       "    .dataframe tbody tr th {\n",
       "        vertical-align: top;\n",
       "    }\n",
       "\n",
       "    .dataframe thead th {\n",
       "        text-align: right;\n",
       "    }\n",
       "</style>\n",
       "<table border=\"1\" class=\"dataframe\">\n",
       "  <thead>\n",
       "    <tr style=\"text-align: right;\">\n",
       "      <th></th>\n",
       "      <th>Tags</th>\n",
       "      <th>Words</th>\n",
       "      <th>Count</th>\n",
       "    </tr>\n",
       "  </thead>\n",
       "  <tbody>\n",
       "    <tr>\n",
       "      <th>0</th>\n",
       "      <td>NN</td>\n",
       "      <td>डॉ मानसी शिरीष कणेकर लेखिका कवयित्री गायिका कणेकर संजीवनी मुलगी पती हवालदार शिरीष कणेकर दोघेही लेखक मानसी कणेकर संस्कृत उर्दू भाषांवर प्रभुत्व गझल लिहीत गातही मानसी कणेकर २९व्या वर्षी अनुवादशास्त्रात पीएच.डी मिळवली लॉर्का स्पॅनिश नाटककाराची नाटके मराठीत अनुवादित ज्ञानेश्वरांच्या अभंगांचे आशयलेखन सिम्बोलिझम विषयाचा अभ्यास पुस्तकांतून आध्यात्मिक चित्रकार शिवानंद प्रतीकात्मक चित्रे</td>\n",
       "      <td>50</td>\n",
       "    </tr>\n",
       "    <tr>\n",
       "      <th>1</th>\n",
       "      <td>SYM</td>\n",
       "      <td>. , . . . , , . . . . . . .</td>\n",
       "      <td>14</td>\n",
       "    </tr>\n",
       "    <tr>\n",
       "      <th>2</th>\n",
       "      <td>DEM</td>\n",
       "      <td>या हे या त्या या या</td>\n",
       "      <td>6</td>\n",
       "    </tr>\n",
       "    <tr>\n",
       "      <th>3</th>\n",
       "      <td>JJ</td>\n",
       "      <td>मराठी मराठी प्रसिद्ध</td>\n",
       "      <td>3</td>\n",
       "    </tr>\n",
       "    <tr>\n",
       "      <th>4</th>\n",
       "      <td>CC</td>\n",
       "      <td>व अनिल आणि आणि आणि</td>\n",
       "      <td>5</td>\n",
       "    </tr>\n",
       "    <tr>\n",
       "      <th>5</th>\n",
       "      <td>VAUX</td>\n",
       "      <td>होत्या होते होती होती असून असत</td>\n",
       "      <td>6</td>\n",
       "    </tr>\n",
       "    <tr>\n",
       "      <th>6</th>\n",
       "      <td>NNP</td>\n",
       "      <td>मराठे इंग्रजी</td>\n",
       "      <td>2</td>\n",
       "    </tr>\n",
       "    <tr>\n",
       "      <th>7</th>\n",
       "      <td>PRP</td>\n",
       "      <td>यांची त्यांचे यांचे यांनी त्यांनी त्यांनी त्यांचा त्यांच्या यांची</td>\n",
       "      <td>9</td>\n",
       "    </tr>\n",
       "    <tr>\n",
       "      <th>8</th>\n",
       "      <td>VM</td>\n",
       "      <td>होत होत केली केले</td>\n",
       "      <td>4</td>\n",
       "    </tr>\n",
       "    <tr>\n",
       "      <th>9</th>\n",
       "      <td>QC</td>\n",
       "      <td>तीन</td>\n",
       "      <td>1</td>\n",
       "    </tr>\n",
       "  </tbody>\n",
       "</table>\n",
       "</div>"
      ],
      "text/plain": [
       "   Tags                                                                                                                                                                                                                                                                                                                                                                                          Words  Count\n",
       "0  NN    डॉ मानसी शिरीष कणेकर लेखिका कवयित्री गायिका कणेकर संजीवनी मुलगी पती हवालदार शिरीष कणेकर दोघेही लेखक मानसी कणेकर संस्कृत उर्दू भाषांवर प्रभुत्व गझल लिहीत गातही मानसी कणेकर २९व्या वर्षी अनुवादशास्त्रात पीएच.डी मिळवली लॉर्का स्पॅनिश नाटककाराची नाटके मराठीत अनुवादित ज्ञानेश्वरांच्या अभंगांचे आशयलेखन सिम्बोलिझम विषयाचा अभ्यास पुस्तकांतून आध्यात्मिक चित्रकार शिवानंद प्रतीकात्मक चित्रे  50   \n",
       "1  SYM   . , . . . , , . . . . . . .                                                                                                                                                                                                                                                                                                                                                                    14   \n",
       "2  DEM   या हे या त्या या या                                                                                                                                                                                                                                                                                                                                                                            6    \n",
       "3  JJ    मराठी मराठी प्रसिद्ध                                                                                                                                                                                                                                                                                                                                                                           3    \n",
       "4  CC    व अनिल आणि आणि आणि                                                                                                                                                                                                                                                                                                                                                                             5    \n",
       "5  VAUX  होत्या होते होती होती असून असत                                                                                                                                                                                                                                                                                                                                                                 6    \n",
       "6  NNP   मराठे इंग्रजी                                                                                                                                                                                                                                                                                                                                                                                  2    \n",
       "7  PRP   यांची त्यांचे यांचे यांनी त्यांनी त्यांनी त्यांचा त्यांच्या यांची                                                                                                                                                                                                                                                                                                                              9    \n",
       "8  VM    होत होत केली केले                                                                                                                                                                                                                                                                                                                                                                              4    \n",
       "9  QC    तीन                                                                                                                                                                                                                                                                                                                                                                                            1    "
      ]
     },
     "execution_count": 40,
     "metadata": {},
     "output_type": "execute_result"
    }
   ],
   "source": [
    "df = get_POS(word_tokenize(list))  #With the help of nltk.tokenize.word_tokenize() method, we are able to extract the tokens from string of characters\n",
    "df"
   ]
  },
  {
   "cell_type": "code",
   "execution_count": 41,
   "metadata": {},
   "outputs": [],
   "source": [
    "list1=\"जॉन 'माल्कम फ्रेझर' हा ऑस्ट्रेलियाचा बाविसावा पंतप्रधान होता. हा १९७५ ते १९८३ दरम्यान सत्तेवर होता.\""
   ]
  },
  {
   "cell_type": "code",
   "execution_count": 42,
   "metadata": {},
   "outputs": [
    {
     "data": {
      "text/html": [
       "<div>\n",
       "<style scoped>\n",
       "    .dataframe tbody tr th:only-of-type {\n",
       "        vertical-align: middle;\n",
       "    }\n",
       "\n",
       "    .dataframe tbody tr th {\n",
       "        vertical-align: top;\n",
       "    }\n",
       "\n",
       "    .dataframe thead th {\n",
       "        text-align: right;\n",
       "    }\n",
       "</style>\n",
       "<table border=\"1\" class=\"dataframe\">\n",
       "  <thead>\n",
       "    <tr style=\"text-align: right;\">\n",
       "      <th></th>\n",
       "      <th>Tags</th>\n",
       "      <th>Words</th>\n",
       "      <th>Count</th>\n",
       "    </tr>\n",
       "  </thead>\n",
       "  <tbody>\n",
       "    <tr>\n",
       "      <th>0</th>\n",
       "      <td>NN</td>\n",
       "      <td>जॉन माल्कम फ्रेझर ऑस्ट्रेलियाचा बाविसावा पंतप्रधान १९७५ सत्तेवर</td>\n",
       "      <td>8</td>\n",
       "    </tr>\n",
       "    <tr>\n",
       "      <th>1</th>\n",
       "      <td>SYM</td>\n",
       "      <td>' ' . .</td>\n",
       "      <td>4</td>\n",
       "    </tr>\n",
       "    <tr>\n",
       "      <th>2</th>\n",
       "      <td>DEM</td>\n",
       "      <td>हा हा</td>\n",
       "      <td>2</td>\n",
       "    </tr>\n",
       "    <tr>\n",
       "      <th>3</th>\n",
       "      <td>VAUX</td>\n",
       "      <td>होता होता</td>\n",
       "      <td>2</td>\n",
       "    </tr>\n",
       "    <tr>\n",
       "      <th>4</th>\n",
       "      <td>PRP</td>\n",
       "      <td>ते</td>\n",
       "      <td>1</td>\n",
       "    </tr>\n",
       "    <tr>\n",
       "      <th>5</th>\n",
       "      <td>NNP</td>\n",
       "      <td>१९८३</td>\n",
       "      <td>1</td>\n",
       "    </tr>\n",
       "    <tr>\n",
       "      <th>6</th>\n",
       "      <td>NST</td>\n",
       "      <td>दरम्यान</td>\n",
       "      <td>1</td>\n",
       "    </tr>\n",
       "  </tbody>\n",
       "</table>\n",
       "</div>"
      ],
      "text/plain": [
       "   Tags                                                            Words  Count\n",
       "0  NN    जॉन माल्कम फ्रेझर ऑस्ट्रेलियाचा बाविसावा पंतप्रधान १९७५ सत्तेवर  8    \n",
       "1  SYM   ' ' . .                                                          4    \n",
       "2  DEM   हा हा                                                            2    \n",
       "3  VAUX  होता होता                                                        2    \n",
       "4  PRP   ते                                                               1    \n",
       "5  NNP   १९८३                                                             1    \n",
       "6  NST   दरम्यान                                                          1    "
      ]
     },
     "execution_count": 42,
     "metadata": {},
     "output_type": "execute_result"
    }
   ],
   "source": [
    "df = get_POS(word_tokenize(list1))\n",
    "df"
   ]
  },
  {
   "cell_type": "code",
   "execution_count": null,
   "metadata": {},
   "outputs": [],
   "source": []
  }
 ],
 "metadata": {
  "kernelspec": {
   "display_name": "Python 3",
   "language": "python",
   "name": "python3"
  },
  "language_info": {
   "codemirror_mode": {
    "name": "ipython",
    "version": 3
   },
   "file_extension": ".py",
   "mimetype": "text/x-python",
   "name": "python",
   "nbconvert_exporter": "python",
   "pygments_lexer": "ipython3",
   "version": "3.6.9"
  }
 },
 "nbformat": 4,
 "nbformat_minor": 4
}
